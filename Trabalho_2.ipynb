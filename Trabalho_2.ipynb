{
 "cells": [
  {
   "cell_type": "markdown",
   "metadata": {},
   "source": [
    "# Trabalho 2 - Teoria dos Grafos Aplicada"
   ]
  },
  {
   "cell_type": "markdown",
   "metadata": {},
   "source": [
    "## Importes, Arquivos e Funções Auxiliares"
   ]
  },
  {
   "cell_type": "code",
   "execution_count": 12,
   "metadata": {},
   "outputs": [],
   "source": [
    "from auxx import *"
   ]
  },
  {
   "cell_type": "code",
   "execution_count": 13,
   "metadata": {},
   "outputs": [
    {
     "data": {
      "text/plain": [
       "([[0, [1, 2]],\n",
       "  [1, [0, 2, 3]],\n",
       "  [2, [0, 1, 3, 4]],\n",
       "  [3, [1, 2, 4]],\n",
       "  [4, [2, 3, 5, 6]],\n",
       "  [5, [4, 6]],\n",
       "  [6, [4, 5]]],\n",
       " [[1, 1, 0, 0, 0, 0], [1, 1, 0, 0, 0], [1, 1, 0, 0], [1, 0, 0], [1, 1], [1]])"
      ]
     },
     "execution_count": 13,
     "metadata": {},
     "output_type": "execute_result"
    }
   ],
   "source": [
    "teste = \"test_3.txt\"\n",
    "\n",
    "G = graph.from_a_file(teste)\n",
    "G.list_, G.matrix"
   ]
  },
  {
   "cell_type": "code",
   "execution_count": 14,
   "metadata": {},
   "outputs": [],
   "source": [
    "def to_gfd (name : str, vec_num : int, edges : int):\n",
    "    aux = open(name, 'w')\n",
    "\n",
    "    aux.write(\"nodedef>name VARCHAR,label VARCHAR\\n\")\n",
    "    for v in range (1, vec_num + 1):\n",
    "        aux.write(f\"{v},{v}\\n\")\n",
    "\n",
    "    aux.write(\"edgedef>node1 VARCHAR,node2 VARCHAR,directed BOOLEAN,color VARCHAR\\n\")\n",
    "    for i in edges:\n",
    "        if i[1] == 'blue':\n",
    "            aux.write(f\"{i[0][0]},{i[0][1]},false,'0,0,255'\\n\")\n",
    "        \n",
    "        elif i[1] == 'red':\n",
    "            aux.write(f\"{i[0][0]},{i[0][1]},false,'255,0,0'\\n\")\n",
    "        \n",
    "        elif i[1] == 'green':\n",
    "            aux.write(f\"{i[0][0]},{i[0][1]},false,'0,255,0'\\n\")\n",
    "        \n",
    "        else:\n",
    "            aux.write(f\"{i[0][0]},{i[0][1]},false,'255,255,0'\\n\")\n",
    "    \n",
    "    aux.close()\n",
    "\n",
    "    return"
   ]
  },
  {
   "cell_type": "markdown",
   "metadata": {},
   "source": [
    "## Busca em Largura"
   ]
  },
  {
   "cell_type": "code",
   "execution_count": 15,
   "metadata": {},
   "outputs": [],
   "source": [
    "class depth_node ():\n",
    "    def __init__ (self, vertex : int, parent : int = 0, entry_depth : int = 0, exit_depth : int = 0):\n",
    "        self.vertex = vertex\n",
    "        self.parent = parent\n",
    "        self.entry_depth = entry_depth\n",
    "        self.exit_depth = exit_depth\n",
    "    \n",
    "    def set_parent (self, new_parent : int):\n",
    "        self.parent = new_parent\n",
    "\n",
    "    def set_entry_depth (self, new_entry_depth : int):\n",
    "        self.entry_depth = new_entry_depth\n",
    "\n",
    "    def set_exit_depth (self, new_exit_depth : int):\n",
    "        self.exit_depth = new_exit_depth"
   ]
  },
  {
   "cell_type": "code",
   "execution_count": 16,
   "metadata": {},
   "outputs": [],
   "source": [
    "class depth_first_search (graph):\n",
    "    def __init__ (self, matrix : int, list_ : int):\n",
    "        super().__init__(matrix = matrix, list_ = list_)\n",
    "        self.initial_state()\n",
    "    \n",
    "    def initial_state (self):\n",
    "        #inicializando a busca\n",
    "        self.order = 0\n",
    "        self.node_list = []\n",
    "        self.edges = []\n",
    "\n",
    "        for i in range (self.vec_num):\n",
    "            self.node_list.append(depth_node(vertex = i))\n",
    "    \n",
    "    def DFS (self, root : int):\n",
    "        self.order = self.order + 1\n",
    "        self.node_list[root - 1].set_entry_depth (self.order)\n",
    "\n",
    "        for i in (self.list_[root - 1][1]):\n",
    "            if self.node_list[i].entry_depth == 0:\n",
    "                self.edges.append([sorted([root, i + 1]), 'blue'])\n",
    "                self.node_list[i].set_parent (root - 1)\n",
    "                self.DFS(i + 1)\n",
    "            \n",
    "            else:\n",
    "                if self.node_list[i].exit_depth == 0 and self.node_list[root - 1].parent != i:\n",
    "                    self.edges.append([sorted([root, i + 1]), 'red'])\n",
    "        \n",
    "        self.order = self.order + 1\n",
    "        self.node_list[root - 1].set_exit_depth (self.order)\n",
    "        \n",
    "        return\n",
    "\n",
    "    def DFS_result (self, name_arch : str, root : int):\n",
    "        self.DFS(root)\n",
    "        to_gfd(name_arch, self.vec_num, self.edges)\n",
    "\n",
    "        print (\"Arestas azuis: \")\n",
    "        for i in (self.edges):\n",
    "            if i[1] == 'blue':\n",
    "                print(i[0])\n",
    "        \n",
    "        print(\"\")\n",
    "\n",
    "        print (\"Arestas vermelhas: \")\n",
    "        for j in (self.edges):\n",
    "            if j[1] == 'red':\n",
    "                print(j[0])\n",
    "    \n",
    "    @classmethod\n",
    "    def from_a_graph (cls, G : graph): #método que permite a construção a partir de um grafo\n",
    "        return cls(G.matrix, G.list_)"
   ]
  },
  {
   "cell_type": "code",
   "execution_count": 18,
   "metadata": {},
   "outputs": [
    {
     "name": "stdout",
     "output_type": "stream",
     "text": [
      "Arestas azuis: \n",
      "[3, 5]\n",
      "[1, 3]\n",
      "[1, 2]\n",
      "[2, 4]\n",
      "[5, 6]\n",
      "[6, 7]\n",
      "\n",
      "Arestas vermelhas: \n",
      "[2, 3]\n",
      "[3, 4]\n",
      "[4, 5]\n",
      "[5, 7]\n"
     ]
    }
   ],
   "source": [
    "DFS_ = depth_first_search.from_a_graph(G)\n",
    "DFS_.DFS_result('test_3.gfd', 5)"
   ]
  },
  {
   "cell_type": "markdown",
   "metadata": {},
   "source": [
    "## Busca em Profundidade"
   ]
  },
  {
   "cell_type": "code",
   "execution_count": null,
   "metadata": {},
   "outputs": [],
   "source": [
    "def breadth_first_search (self, root : int):\n",
    "    return\n",
    "\n",
    "graph.breadth_first_search = breadth_first_search"
   ]
  }
 ],
 "metadata": {
  "kernelspec": {
   "display_name": "base",
   "language": "python",
   "name": "python3"
  },
  "language_info": {
   "codemirror_mode": {
    "name": "ipython",
    "version": 3
   },
   "file_extension": ".py",
   "mimetype": "text/x-python",
   "name": "python",
   "nbconvert_exporter": "python",
   "pygments_lexer": "ipython3",
   "version": "3.10.12"
  },
  "orig_nbformat": 4
 },
 "nbformat": 4,
 "nbformat_minor": 2
}
