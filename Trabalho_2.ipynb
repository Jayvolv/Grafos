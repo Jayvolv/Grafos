{
 "cells": [
  {
   "cell_type": "markdown",
   "metadata": {},
   "source": [
    "# Trabalho 2 - Teoria dos Grafos Aplicada"
   ]
  },
  {
   "cell_type": "markdown",
   "metadata": {},
   "source": [
    "## Importes, Arquivos e Funções Auxiliares"
   ]
  },
  {
   "cell_type": "code",
   "execution_count": 17,
   "metadata": {},
   "outputs": [],
   "source": [
    "from auxx import *\n",
    "from collections import deque"
   ]
  },
  {
   "cell_type": "code",
   "execution_count": 18,
   "metadata": {},
   "outputs": [
    {
     "data": {
      "text/plain": [
       "([[0, [1, 3, 4, 5, 6, 13, 15]],\n",
       "  [1, [0, 13]],\n",
       "  [2, [12]],\n",
       "  [3, [0, 6]],\n",
       "  [4, [0, 6, 10]],\n",
       "  [5, [0]],\n",
       "  [6, [0, 3, 4, 12]],\n",
       "  [7, [13, 17]],\n",
       "  [8, [13]],\n",
       "  [9, [13, 19]],\n",
       "  [10, [4]],\n",
       "  [11, [13]],\n",
       "  [12, [2, 6, 16, 19]],\n",
       "  [13, [0, 1, 7, 8, 9, 11, 19]],\n",
       "  [14, [17]],\n",
       "  [15, [0, 17]],\n",
       "  [16, [12]],\n",
       "  [17, [7, 14, 15, 18]],\n",
       "  [18, [17]],\n",
       "  [19, [9, 12, 13]]],\n",
       " [[1, 0, 1, 1, 1, 1, 0, 0, 0, 0, 0, 0, 1, 0, 1, 0, 0, 0, 0],\n",
       "  [0, 0, 0, 0, 0, 0, 0, 0, 0, 0, 0, 1, 0, 0, 0, 0, 0, 0],\n",
       "  [0, 0, 0, 0, 0, 0, 0, 0, 0, 1, 0, 0, 0, 0, 0, 0, 0],\n",
       "  [0, 0, 1, 0, 0, 0, 0, 0, 0, 0, 0, 0, 0, 0, 0, 0],\n",
       "  [0, 1, 0, 0, 0, 1, 0, 0, 0, 0, 0, 0, 0, 0, 0],\n",
       "  [0, 0, 0, 0, 0, 0, 0, 0, 0, 0, 0, 0, 0, 0],\n",
       "  [0, 0, 0, 0, 0, 1, 0, 0, 0, 0, 0, 0, 0],\n",
       "  [0, 0, 0, 0, 0, 1, 0, 0, 0, 1, 0, 0],\n",
       "  [0, 0, 0, 0, 1, 0, 0, 0, 0, 0, 0],\n",
       "  [0, 0, 0, 1, 0, 0, 0, 0, 0, 1],\n",
       "  [0, 0, 0, 0, 0, 0, 0, 0, 0],\n",
       "  [0, 1, 0, 0, 0, 0, 0, 0],\n",
       "  [0, 0, 0, 1, 0, 0, 1],\n",
       "  [0, 0, 0, 0, 0, 1],\n",
       "  [0, 0, 1, 0, 0],\n",
       "  [0, 1, 0, 0],\n",
       "  [0, 0, 0],\n",
       "  [1, 0],\n",
       "  [0]])"
      ]
     },
     "execution_count": 18,
     "metadata": {},
     "output_type": "execute_result"
    }
   ],
   "source": [
    "teste = \"graph_5\"\n",
    "\n",
    "G = graph.from_a_file(teste)\n",
    "G.list_, G.matrix"
   ]
  },
  {
   "cell_type": "code",
   "execution_count": 19,
   "metadata": {},
   "outputs": [],
   "source": [
    "def sorted_insert (self, edge : list):\n",
    "    if not (self.edges):\n",
    "        self.edges.append(edge)\n",
    "        return\n",
    "    \n",
    "    i = 0\n",
    "    while self.edges[i][0][0] < edge[0][0]: #enquanto tiver menores na lista\n",
    "        i = i + 1\n",
    "\n",
    "        if i == len(self.edges):\n",
    "            self.edges.append(edge)\n",
    "            return\n",
    "\n",
    "    if self.edges[i][0][0] > edge[0][0]:\n",
    "        self.edges.insert(i, edge)\n",
    "        return\n",
    "    \n",
    "    else:\n",
    "        while (self.edges[i][0][0] == edge[0][0] and self.edges[i][0][1] < edge[0][1]):\n",
    "            i = i + 1\n",
    "\n",
    "            if i == len(self.edges):\n",
    "                self.edges.append(edge)\n",
    "                return\n",
    "            \n",
    "        self.edges.insert(i, edge)\n",
    "        return"
   ]
  },
  {
   "cell_type": "code",
   "execution_count": 20,
   "metadata": {},
   "outputs": [],
   "source": [
    "def to_gfd (name : str, vec_num : int, edges : int):\n",
    "    aux = open(name, 'w')\n",
    "\n",
    "    aux.write(\"nodedef>name VARCHAR,label VARCHAR\\n\")\n",
    "    for v in range (1, vec_num + 1):\n",
    "        aux.write(f\"{v},{v}\\n\")\n",
    "\n",
    "    aux.write(\"edgedef>node1 VARCHAR,node2 VARCHAR,directed BOOLEAN,color VARCHAR\\n\")\n",
    "    for i in edges:\n",
    "        if i[1] == 'blue':\n",
    "            aux.write(f\"{i[0][0]},{i[0][1]},false,'0,0,255'\\n\")\n",
    "        \n",
    "        elif i[1] == 'red':\n",
    "            aux.write(f\"{i[0][0]},{i[0][1]},false,'255,0,0'\\n\")\n",
    "        \n",
    "        elif i[1] == 'green':\n",
    "            aux.write(f\"{i[0][0]},{i[0][1]},false,'0,255,0'\\n\")\n",
    "        \n",
    "        else:\n",
    "            aux.write(f\"{i[0][0]},{i[0][1]},false,'255,255,0'\\n\")\n",
    "    \n",
    "    aux.close()\n",
    "\n",
    "    return"
   ]
  },
  {
   "cell_type": "markdown",
   "metadata": {},
   "source": [
    "## Busca em Profundidade"
   ]
  },
  {
   "cell_type": "code",
   "execution_count": 21,
   "metadata": {},
   "outputs": [],
   "source": [
    "class depth_node ():\n",
    "    def __init__ (self, vertex : int, parent : int = 0, entry_depth : int = 0, exit_depth : int = 0):\n",
    "        self.vertex = vertex\n",
    "        self.parent = parent\n",
    "        self.entry_depth = entry_depth\n",
    "        self.exit_depth = exit_depth\n",
    "    \n",
    "    def set_parent (self, new_parent : int):\n",
    "        self.parent = new_parent\n",
    "\n",
    "    def set_entry_depth (self, new_entry_depth : int):\n",
    "        self.entry_depth = new_entry_depth\n",
    "\n",
    "    def set_exit_depth (self, new_exit_depth : int):\n",
    "        self.exit_depth = new_exit_depth"
   ]
  },
  {
   "cell_type": "code",
   "execution_count": 22,
   "metadata": {},
   "outputs": [],
   "source": [
    "class depth_first_search (graph):\n",
    "    def __init__ (self, matrix : int, list_ : int):\n",
    "        super().__init__(matrix = matrix, list_ = list_)\n",
    "        self.initial_state()\n",
    "    \n",
    "    def initial_state (self):\n",
    "        #inicializando a busca\n",
    "        self.order = 0\n",
    "        self.node_list = []\n",
    "        self.edges = []\n",
    "\n",
    "        for i in range (self.vec_num):\n",
    "            self.node_list.append(depth_node(vertex = i))\n",
    "\n",
    "    def DFS (self, root : int):\n",
    "        self.order = self.order + 1\n",
    "        self.node_list[root - 1].set_entry_depth (self.order)\n",
    "\n",
    "        for i in (self.list_[root - 1][1]):\n",
    "            if self.node_list[i].entry_depth == 0:\n",
    "                sorted_insert(self, [sorted([root, i + 1]), 'blue'])\n",
    "                self.node_list[i].set_parent (root - 1)\n",
    "                self.DFS(i + 1)\n",
    "            \n",
    "            else:\n",
    "                if self.node_list[i].exit_depth == 0 and self.node_list[root - 1].parent != i:\n",
    "                    sorted_insert(self, [sorted([root, i + 1]), 'red'])\n",
    "        \n",
    "        self.order = self.order + 1\n",
    "        self.node_list[root - 1].set_exit_depth (self.order)\n",
    "        \n",
    "        return\n",
    "\n",
    "    def DFS_result (self, name_arch : str, root : int):\n",
    "        self.DFS(root)\n",
    "        to_gfd(name_arch, self.vec_num, self.edges)\n",
    "\n",
    "        print (\"Arestas azuis: \")\n",
    "        for i in (self.edges):\n",
    "            if i[1] == 'blue':\n",
    "                print(i[0])\n",
    "        \n",
    "        print(\"\")\n",
    "\n",
    "        print (\"Arestas vermelhas: \")\n",
    "        for j in (self.edges):\n",
    "            if j[1] == 'red':\n",
    "                print(j[0])\n",
    "    \n",
    "    @classmethod\n",
    "    def from_a_graph (cls, G : graph): #método que permite a construção a partir de um grafo\n",
    "        return cls(G.matrix, G.list_)"
   ]
  },
  {
   "cell_type": "code",
   "execution_count": 23,
   "metadata": {},
   "outputs": [
    {
     "name": "stdout",
     "output_type": "stream",
     "text": [
      "Arestas azuis: \n",
      "[1, 2]\n",
      "[1, 5]\n",
      "[1, 6]\n",
      "[2, 14]\n",
      "[3, 13]\n",
      "[4, 7]\n",
      "[5, 11]\n",
      "[7, 13]\n",
      "[8, 14]\n",
      "[8, 18]\n",
      "[9, 14]\n",
      "[10, 14]\n",
      "[10, 20]\n",
      "[12, 14]\n",
      "[13, 17]\n",
      "[13, 20]\n",
      "[15, 18]\n",
      "[16, 18]\n",
      "[18, 19]\n",
      "\n",
      "Arestas vermelhas: \n",
      "[1, 4]\n",
      "[1, 7]\n",
      "[1, 14]\n",
      "[1, 16]\n",
      "[5, 7]\n",
      "[14, 20]\n"
     ]
    }
   ],
   "source": [
    "DFS_ = depth_first_search.from_a_graph(G)\n",
    "DFS_.DFS_result('test_dfs.gdf', 5)"
   ]
  },
  {
   "cell_type": "markdown",
   "metadata": {},
   "source": [
    "## Busca em Largura"
   ]
  },
  {
   "cell_type": "code",
   "execution_count": 24,
   "metadata": {},
   "outputs": [],
   "source": [
    "class breadth_node ():\n",
    "        def __init__ (self, vertex : int, parent : int = 0, entry_breadth : int = 0, level : int = 0):\n",
    "                self.vertex = vertex\n",
    "                self.parent = parent\n",
    "                self.entry_breadth = entry_breadth\n",
    "                self.level = level\n",
    "        \n",
    "        def set_parent (self, new_parent : int):\n",
    "                self.parent = new_parent\n",
    "\n",
    "        def set_entry_breadth (self, new_entry_breadth : int):\n",
    "                self.entry_breadth = new_entry_breadth\n",
    "\n",
    "        def set_level (self, new_level : int):\n",
    "                self.level = new_level"
   ]
  },
  {
   "cell_type": "code",
   "execution_count": 25,
   "metadata": {},
   "outputs": [],
   "source": [
    "class breadth_first_search (graph):\n",
    "    def __init__ (self, matrix : int, list_ : int):\n",
    "        super().__init__(matrix = matrix, list_ = list_)\n",
    "        self.initial_state()\n",
    "\n",
    "    def initial_state (self):\n",
    "        self.order = 0\n",
    "        self.nodelist = []\n",
    "\n",
    "        for i in range(self.vec_num):\n",
    "            self.nodelist.append(breadth_node(vertex = i))\n",
    "            \n",
    "    def BFS (self, root : int):\n",
    "        self.queue = deque()\n",
    "        self.time = 1\n",
    "        self.level = 0\n",
    "        self.edges = []\n",
    "\n",
    "        self.nodelist[root].set_entry_breadth(self.time)\n",
    "        self.queue.append(self.nodelist[root])\n",
    "\n",
    "        while (len(self.queue) > 0):\n",
    "            v = self.queue.popleft()\n",
    "\n",
    "            for w in self.list_[v.vertex][1]:\n",
    "                if self.nodelist[w].entry_breadth == 0:\n",
    "                    self.nodelist[w].set_parent(v.vertex)\n",
    "                    self.nodelist[w].set_level(v.level + 1)\n",
    "                    self.time += 1\n",
    "                    self.nodelist[w].set_entry_breadth(self.time)\n",
    "                    self.queue.append(self.nodelist[w])\n",
    "                    sorted_insert(self, [[v.vertex + 1, w + 1], 'blue'])\n",
    "\n",
    "                elif self.nodelist[w].level == v.level:\n",
    "                    if self.nodelist[w].parent == v.parent:\n",
    "                        if [[w + 1, v.vertex + 1], 'red'] not in self.edges:\n",
    "                            sorted_insert(self, [[v.vertex + 1, w + 1], 'red'])\n",
    "\n",
    "                    else: \n",
    "                        if [[w+1, v.vertex+1], 'yellow'] not in self.edges:\n",
    "                            sorted_insert(self, [[v.vertex + 1, w + 1], 'yellow'])\n",
    "                    \n",
    "                elif self.nodelist[w].level == v.level+1 and [[w+1, v.vertex+1], 'green'] not in self.edges:\n",
    "                    sorted_insert(self, [[v.vertex + 1, w + 1], 'green'])                \n",
    "            \n",
    "        return self.edges      \n",
    "\n",
    "    def BFS_result (self, name_arch : str, root : int):\n",
    "        self.BFS(root)\n",
    "        to_gfd(name_arch, self.vec_num, self.edges)    \n",
    "\n",
    "    def get_nodes_level(self):\n",
    "        levels = []\n",
    "        for node in self.nodelist:\n",
    "            levels.append(node.level)\n",
    "        return levels\n",
    "                    \n",
    "    @classmethod\n",
    "    def from_a_graph (cls, G : graph): #método que permite a construção a partir de um grafo\n",
    "        return cls(G.matrix, G.list_)"
   ]
  },
  {
   "cell_type": "code",
   "execution_count": 26,
   "metadata": {},
   "outputs": [
    {
     "data": {
      "text/plain": [
       "[0, 1, 3, 1, 1, 1, 1, 2, 2, 2, 2, 2, 2, 1, 3, 1, 3, 2, 3, 2]"
      ]
     },
     "execution_count": 26,
     "metadata": {},
     "output_type": "execute_result"
    }
   ],
   "source": [
    "BFS_ = breadth_first_search.from_a_graph(G)\n",
    "BFS_.BFS_result('test_bfs.gdf', 0)\n",
    "BFS_.get_nodes_level()"
   ]
  },
  {
   "cell_type": "code",
   "execution_count": 41,
   "metadata": {},
   "outputs": [],
   "source": [
    "def get_radius_and_diameter(graph):\n",
    "    eccentricity = []\n",
    "    for i in range(graph.vec_num):\n",
    "        BFS_ = breadth_first_search.from_a_graph(graph)\n",
    "        BFS_.BFS(i)\n",
    "        \n",
    "        eccentricity.append(max(BFS_.get_nodes_level()))\n",
    "    \n",
    "    radius = min(eccentricity)\n",
    "    diameter = max(eccentricity)\n",
    "    \n",
    "    print(f'radius = {radius}, diamenter = {diameter}')\n",
    "    \n",
    "    return radius, diameter"
   ]
  },
  {
   "cell_type": "code",
   "execution_count": 42,
   "metadata": {},
   "outputs": [
    {
     "name": "stdout",
     "output_type": "stream",
     "text": [
      "radius = 3, diamenter = 6\n"
     ]
    }
   ],
   "source": [
    "r, d = get_radius_and_diameter(G)"
   ]
  },
  {
   "cell_type": "code",
   "execution_count": null,
   "metadata": {},
   "outputs": [],
   "source": []
  }
 ],
 "metadata": {
  "kernelspec": {
   "display_name": "base",
   "language": "python",
   "name": "python3"
  },
  "language_info": {
   "codemirror_mode": {
    "name": "ipython",
    "version": 3
   },
   "file_extension": ".py",
   "mimetype": "text/x-python",
   "name": "python",
   "nbconvert_exporter": "python",
   "pygments_lexer": "ipython3",
   "version": "3.11.3"
  },
  "orig_nbformat": 4
 },
 "nbformat": 4,
 "nbformat_minor": 2
}
