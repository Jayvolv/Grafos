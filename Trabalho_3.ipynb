{
 "cells": [
  {
   "cell_type": "markdown",
   "metadata": {},
   "source": [
    "# Trabalho 3"
   ]
  },
  {
   "cell_type": "code",
   "execution_count": 40,
   "metadata": {},
   "outputs": [],
   "source": [
    "from auxx import *\n",
    "from graph import *\n",
    "import random as rd\n",
    "import matplotlib.pyplot as plt\n",
    "from tqdm import tqdm"
   ]
  },
  {
   "cell_type": "code",
   "execution_count": 41,
   "metadata": {},
   "outputs": [],
   "source": [
    "G = graph.from_a_file(\"graph_type2_2\")"
   ]
  },
  {
   "cell_type": "markdown",
   "metadata": {},
   "source": [
    "# Algoritmo de Karger"
   ]
  },
  {
   "cell_type": "code",
   "execution_count": 42,
   "metadata": {},
   "outputs": [],
   "source": [
    "def karger_alg(G : graph):\n",
    "    vert = list(range(G.vec_num))\n",
    "    edges = G.edges_list\n",
    "    # vertex_dict = {}\n",
    "    while(len(vert) != 2):\n",
    "        \n",
    "        choice = rd.choice(edges)\n",
    "\n",
    "        new_vert = max(vert)+1 #cria novo vertice\n",
    "        vert.append(new_vert) #adiciona ao vertices\n",
    "\n",
    "        # remove os vertices concatenados\n",
    "        vert.remove(choice[0]) \n",
    "        vert.remove(choice[1])\n",
    "        \n",
    "        new_edges = [] #Criando uma lista de novas arestas\n",
    "        # vertex_dict[new_vert] = (choice) #criando um dicionario com a representação dos vertices\n",
    "\n",
    "\n",
    "        for e in edges: #percorrendo cada vertice antigo\n",
    "            if sorted(e) == sorted(choice): #não adiciona as arestas concatenadas\n",
    "                continue\n",
    "\n",
    "            #muda o valor dos antigos vertices para o novo vertice\n",
    "            elif choice[0] == e[0] or choice[1] == e[0]:\n",
    "                new_edges.append((new_vert,e[1]))\n",
    "\n",
    "            elif choice[0] == e[1] or choice [1] == e[1]:\n",
    "                new_edges.append((e[0], new_vert))\n",
    "\n",
    "            #mantem as arrestas de outros vertices\n",
    "            else:\n",
    "                new_edges.append(e)\n",
    "        edges = new_edges\n",
    "    \n",
    "    \n",
    "    return len(edges)\n",
    "            \n"
   ]
  },
  {
   "cell_type": "code",
   "execution_count": 43,
   "metadata": {},
   "outputs": [],
   "source": [
    "def karger(G : graph, vol : int):\n",
    "    results_list = []\n",
    "\n",
    "    for i in range(vol):\n",
    "        results_list.append(karger_alg(G))\n",
    "    \n",
    "    return min(results_list) #retorno minimo"
   ]
  },
  {
   "cell_type": "markdown",
   "metadata": {},
   "source": [
    "## Algoritmo Ingenuo"
   ]
  },
  {
   "cell_type": "code",
   "execution_count": 44,
   "metadata": {},
   "outputs": [],
   "source": [
    "def naive_alg (G : graph):\n",
    "    vertices = []\n",
    "    blue_list = []\n",
    "    red_list = []\n",
    "    min_cut = 0\n",
    "\n",
    "    for i in range (G.vec_num): #gerando a lista dos vértices\n",
    "        vertices.append(i)\n",
    "\n",
    "    while (len(vertices) > 0):\n",
    "        choice = rd.choice(vertices)\n",
    "\n",
    "        if (len(blue_list) <= len(red_list)):\n",
    "            blue_list.append(choice)\n",
    "\n",
    "            for k in red_list:\n",
    "                if G.are_neigh(choice + 1, k + 1):\n",
    "                    min_cut = min_cut + 1\n",
    "        \n",
    "        else:\n",
    "            red_list.append(choice)\n",
    "\n",
    "            for k in blue_list:\n",
    "                if G.are_neigh(choice + 1, k + 1):\n",
    "                    min_cut = min_cut + 1\n",
    "        \n",
    "        vertices.remove(choice)\n",
    "    \n",
    "    return min_cut"
   ]
  },
  {
   "cell_type": "code",
   "execution_count": 45,
   "metadata": {},
   "outputs": [],
   "source": [
    "def naive (G : graph, iter_ : int):\n",
    "    results_list = []\n",
    "\n",
    "    for i in range (iter_):\n",
    "        results_list.append(naive_alg(G))\n",
    "\n",
    "    return min(results_list) #MInimo"
   ]
  },
  {
   "cell_type": "markdown",
   "metadata": {},
   "source": [
    "## PROBABILIDADES"
   ]
  },
  {
   "cell_type": "markdown",
   "metadata": {},
   "source": [
    "### Probabilidade de não aparição do melhor\n",
    "\n",
    "$$P = (1 - \\frac {2}{n^2 - n} )^N$$\n",
    "\n",
    "n = numero de vertices <br>\n",
    "N = numero de execuções"
   ]
  },
  {
   "cell_type": "markdown",
   "metadata": {},
   "source": [
    "### Probabilidade de aparições por execuções dos algoritmos\n",
    "A = Aparição do menor corte <br>\n",
    "B = Aparição do não menor corte\n",
    "\n",
    "$$ P(A.B) = \\frac {P(A)} {P(A)+P(B)} $$"
   ]
  },
  {
   "cell_type": "code",
   "execution_count": 46,
   "metadata": {},
   "outputs": [],
   "source": [
    "def descompact(tuple_):\n",
    "    vert, vertex_dict = tuple_\n",
    "    blue_list = []\n",
    "    red_list = []\n",
    "\n",
    "    blue_list.append(vert[0])\n",
    "    red_list.append(vert[1])\n",
    "\n",
    "    print(blue_list)\n",
    "\n",
    "    aux = []\n",
    "\n",
    "    while(len(vertex_dict.keys())):\n",
    "        print(len(vertex_dict.keys()))\n",
    "        print(vertex_dict.keys())\n",
    "\n",
    "        for v in blue_list:\n",
    "            if v not in vertex_dict.keys():\n",
    "                print(v, \"eita blue\")\n",
    "                break\n",
    "\n",
    "            blue_list.append(vertex_dict[v][0])\n",
    "            blue_list.append(vertex_dict[v][1])\n",
    "            blue_list.remove(v)\n",
    "            del vertex_dict[v]\n",
    "            print(vertex_dict[v])\n",
    "        \n",
    "\n",
    "        for v in red_list:\n",
    "            if v not in vertex_dict.keys():\n",
    "                print(v, \"eita red\")\n",
    "                print(vertex_dict[v])\n",
    "                break\n",
    "\n",
    "            red_list.append(vertex_dict[v][0])\n",
    "            red_list.append(vertex_dict[v][1])\n",
    "            red_list.remove(v)\n",
    "            del vertex_dict[v]\n",
    "        \n",
    "    \n",
    "    return red_list, blue_list"
   ]
  },
  {
   "cell_type": "code",
   "execution_count": 47,
   "metadata": {},
   "outputs": [],
   "source": [
    "def prob_karger(G: graph, inter_ : int, vol: int, min_ : int):\n",
    "    min_counter = 0\n",
    "    \n",
    "    for i in range(inter_):\n",
    "        k = karger(G, vol)\n",
    "\n",
    "        if k == min_:\n",
    "            min_counter += 1\n",
    "    \n",
    "    return (min_counter/inter_)\n"
   ]
  },
  {
   "cell_type": "code",
   "execution_count": 48,
   "metadata": {},
   "outputs": [],
   "source": [
    "def prob_karger_function (G: graph, inter_ : int, vol: int, min_ : int, step : int, tol : int):\n",
    "    x_o = []\n",
    "    y_o = []\n",
    "    x = inter_\n",
    "    y = 0\n",
    "\n",
    "    while (y < tol):\n",
    "        y = prob_karger(G, x, vol, min_)\n",
    "        print(x, y)\n",
    "        x_o.append(x)\n",
    "        y_o.append(y)\n",
    "        x += step\n",
    "\n",
    "        if x >= 2000:\n",
    "            break\n",
    "    \n",
    "    return x_o, y_o\n"
   ]
  },
  {
   "cell_type": "code",
   "execution_count": 49,
   "metadata": {},
   "outputs": [
    {
     "name": "stdout",
     "output_type": "stream",
     "text": [
      "100 0.0\n",
      "150 0.0\n",
      "200 0.0\n",
      "250 0.0\n",
      "300 0.0\n"
     ]
    },
    {
     "ename": "KeyboardInterrupt",
     "evalue": "",
     "output_type": "error",
     "traceback": [
      "\u001b[1;31m---------------------------------------------------------------------------\u001b[0m",
      "\u001b[1;31mKeyboardInterrupt\u001b[0m                         Traceback (most recent call last)",
      "\u001b[1;32m~\\AppData\\Local\\Temp/ipykernel_5404/977708615.py\u001b[0m in \u001b[0;36m<module>\u001b[1;34m\u001b[0m\n\u001b[1;32m----> 1\u001b[1;33m \u001b[0mx\u001b[0m\u001b[1;33m,\u001b[0m \u001b[0my\u001b[0m \u001b[1;33m=\u001b[0m \u001b[0mprob_karger_function\u001b[0m\u001b[1;33m(\u001b[0m\u001b[0mG\u001b[0m \u001b[1;33m=\u001b[0m \u001b[0mG\u001b[0m\u001b[1;33m,\u001b[0m \u001b[0minter_\u001b[0m \u001b[1;33m=\u001b[0m \u001b[1;36m100\u001b[0m\u001b[1;33m,\u001b[0m \u001b[0mvol\u001b[0m \u001b[1;33m=\u001b[0m \u001b[1;36m10\u001b[0m\u001b[1;33m,\u001b[0m \u001b[0mmin_\u001b[0m \u001b[1;33m=\u001b[0m \u001b[1;36m2\u001b[0m\u001b[1;33m,\u001b[0m \u001b[0mstep\u001b[0m \u001b[1;33m=\u001b[0m \u001b[1;36m50\u001b[0m\u001b[1;33m,\u001b[0m \u001b[0mtol\u001b[0m \u001b[1;33m=\u001b[0m \u001b[1;36m0.965\u001b[0m\u001b[1;33m)\u001b[0m\u001b[1;33m\u001b[0m\u001b[1;33m\u001b[0m\u001b[0m\n\u001b[0m\u001b[0;32m      2\u001b[0m \u001b[0mprint\u001b[0m\u001b[1;33m(\u001b[0m\u001b[0mx\u001b[0m\u001b[1;33m,\u001b[0m \u001b[0my\u001b[0m\u001b[1;33m)\u001b[0m\u001b[1;33m\u001b[0m\u001b[1;33m\u001b[0m\u001b[0m\n",
      "\u001b[1;32m~\\AppData\\Local\\Temp/ipykernel_5404/3905697165.py\u001b[0m in \u001b[0;36mprob_karger_function\u001b[1;34m(G, inter_, vol, min_, step, tol)\u001b[0m\n\u001b[0;32m      6\u001b[0m \u001b[1;33m\u001b[0m\u001b[0m\n\u001b[0;32m      7\u001b[0m     \u001b[1;32mwhile\u001b[0m \u001b[1;33m(\u001b[0m\u001b[0my\u001b[0m \u001b[1;33m<\u001b[0m \u001b[0mtol\u001b[0m\u001b[1;33m)\u001b[0m\u001b[1;33m:\u001b[0m\u001b[1;33m\u001b[0m\u001b[1;33m\u001b[0m\u001b[0m\n\u001b[1;32m----> 8\u001b[1;33m         \u001b[0my\u001b[0m \u001b[1;33m=\u001b[0m \u001b[0mprob_karger\u001b[0m\u001b[1;33m(\u001b[0m\u001b[0mG\u001b[0m\u001b[1;33m,\u001b[0m \u001b[0mx\u001b[0m\u001b[1;33m,\u001b[0m \u001b[0mvol\u001b[0m\u001b[1;33m,\u001b[0m \u001b[0mmin_\u001b[0m\u001b[1;33m)\u001b[0m\u001b[1;33m\u001b[0m\u001b[1;33m\u001b[0m\u001b[0m\n\u001b[0m\u001b[0;32m      9\u001b[0m         \u001b[0mprint\u001b[0m\u001b[1;33m(\u001b[0m\u001b[0mx\u001b[0m\u001b[1;33m,\u001b[0m \u001b[0my\u001b[0m\u001b[1;33m)\u001b[0m\u001b[1;33m\u001b[0m\u001b[1;33m\u001b[0m\u001b[0m\n\u001b[0;32m     10\u001b[0m         \u001b[0mx_o\u001b[0m\u001b[1;33m.\u001b[0m\u001b[0mappend\u001b[0m\u001b[1;33m(\u001b[0m\u001b[0mx\u001b[0m\u001b[1;33m)\u001b[0m\u001b[1;33m\u001b[0m\u001b[1;33m\u001b[0m\u001b[0m\n",
      "\u001b[1;32m~\\AppData\\Local\\Temp/ipykernel_5404/2899430728.py\u001b[0m in \u001b[0;36mprob_karger\u001b[1;34m(G, inter_, vol, min_)\u001b[0m\n\u001b[0;32m      3\u001b[0m \u001b[1;33m\u001b[0m\u001b[0m\n\u001b[0;32m      4\u001b[0m     \u001b[1;32mfor\u001b[0m \u001b[0mi\u001b[0m \u001b[1;32min\u001b[0m \u001b[0mrange\u001b[0m\u001b[1;33m(\u001b[0m\u001b[0minter_\u001b[0m\u001b[1;33m)\u001b[0m\u001b[1;33m:\u001b[0m\u001b[1;33m\u001b[0m\u001b[1;33m\u001b[0m\u001b[0m\n\u001b[1;32m----> 5\u001b[1;33m         \u001b[0mk\u001b[0m \u001b[1;33m=\u001b[0m \u001b[0mkarger\u001b[0m\u001b[1;33m(\u001b[0m\u001b[0mG\u001b[0m\u001b[1;33m,\u001b[0m \u001b[0mvol\u001b[0m\u001b[1;33m)\u001b[0m\u001b[1;33m\u001b[0m\u001b[1;33m\u001b[0m\u001b[0m\n\u001b[0m\u001b[0;32m      6\u001b[0m \u001b[1;33m\u001b[0m\u001b[0m\n\u001b[0;32m      7\u001b[0m         \u001b[1;32mif\u001b[0m \u001b[0mk\u001b[0m \u001b[1;33m==\u001b[0m \u001b[0mmin_\u001b[0m\u001b[1;33m:\u001b[0m\u001b[1;33m\u001b[0m\u001b[1;33m\u001b[0m\u001b[0m\n",
      "\u001b[1;32m~\\AppData\\Local\\Temp/ipykernel_5404/974300627.py\u001b[0m in \u001b[0;36mkarger\u001b[1;34m(G, vol)\u001b[0m\n\u001b[0;32m      3\u001b[0m \u001b[1;33m\u001b[0m\u001b[0m\n\u001b[0;32m      4\u001b[0m     \u001b[1;32mfor\u001b[0m \u001b[0mi\u001b[0m \u001b[1;32min\u001b[0m \u001b[0mrange\u001b[0m\u001b[1;33m(\u001b[0m\u001b[0mvol\u001b[0m\u001b[1;33m)\u001b[0m\u001b[1;33m:\u001b[0m\u001b[1;33m\u001b[0m\u001b[1;33m\u001b[0m\u001b[0m\n\u001b[1;32m----> 5\u001b[1;33m         \u001b[0mresults_list\u001b[0m\u001b[1;33m.\u001b[0m\u001b[0mappend\u001b[0m\u001b[1;33m(\u001b[0m\u001b[0mkarger_alg\u001b[0m\u001b[1;33m(\u001b[0m\u001b[0mG\u001b[0m\u001b[1;33m)\u001b[0m\u001b[1;33m)\u001b[0m\u001b[1;33m\u001b[0m\u001b[1;33m\u001b[0m\u001b[0m\n\u001b[0m\u001b[0;32m      6\u001b[0m \u001b[1;33m\u001b[0m\u001b[0m\n\u001b[0;32m      7\u001b[0m     \u001b[1;32mreturn\u001b[0m \u001b[0mmin\u001b[0m\u001b[1;33m(\u001b[0m\u001b[0mresults_list\u001b[0m\u001b[1;33m)\u001b[0m \u001b[1;31m#retorno minimo\u001b[0m\u001b[1;33m\u001b[0m\u001b[1;33m\u001b[0m\u001b[0m\n",
      "\u001b[1;32m~\\AppData\\Local\\Temp/ipykernel_5404/472641582.py\u001b[0m in \u001b[0;36mkarger_alg\u001b[1;34m(G)\u001b[0m\n\u001b[0;32m     19\u001b[0m \u001b[1;33m\u001b[0m\u001b[0m\n\u001b[0;32m     20\u001b[0m         \u001b[1;32mfor\u001b[0m \u001b[0me\u001b[0m \u001b[1;32min\u001b[0m \u001b[0medges\u001b[0m\u001b[1;33m:\u001b[0m \u001b[1;31m#percorrendo cada vertice antigo\u001b[0m\u001b[1;33m\u001b[0m\u001b[1;33m\u001b[0m\u001b[0m\n\u001b[1;32m---> 21\u001b[1;33m             \u001b[1;32mif\u001b[0m \u001b[0msorted\u001b[0m\u001b[1;33m(\u001b[0m\u001b[0me\u001b[0m\u001b[1;33m)\u001b[0m \u001b[1;33m==\u001b[0m \u001b[0msorted\u001b[0m\u001b[1;33m(\u001b[0m\u001b[0mchoice\u001b[0m\u001b[1;33m)\u001b[0m\u001b[1;33m:\u001b[0m \u001b[1;31m#não adiciona as arestas concatenadas\u001b[0m\u001b[1;33m\u001b[0m\u001b[1;33m\u001b[0m\u001b[0m\n\u001b[0m\u001b[0;32m     22\u001b[0m                 \u001b[1;32mcontinue\u001b[0m\u001b[1;33m\u001b[0m\u001b[1;33m\u001b[0m\u001b[0m\n\u001b[0;32m     23\u001b[0m \u001b[1;33m\u001b[0m\u001b[0m\n",
      "\u001b[1;31mKeyboardInterrupt\u001b[0m: "
     ]
    }
   ],
   "source": [
    "# x, y = prob_karger_function(G = G, inter_ = 100, vol = 10, min_ = 2, step = 50, tol = 0.965)\n",
    "# print(x, y)"
   ]
  },
  {
   "cell_type": "code",
   "execution_count": 89,
   "metadata": {},
   "outputs": [
    {
     "name": "stdout",
     "output_type": "stream",
     "text": [
      "12\n",
      "22\n",
      "32\n",
      "42\n",
      "52\n"
     ]
    }
   ],
   "source": [
    "iter_ = 2000\n",
    "vol = 2\n",
    "min_ = 5\n",
    "tol = 0.97\n",
    "\n",
    "x_vol = []\n",
    "y_k_prob = []\n",
    "y_n_prob = []\n",
    "\n",
    "while(prob <= tol):\n",
    "    prob = 0\n",
    "    count_min_k = 0\n",
    "    count_min_n = 0 \n",
    "    for i in range(iter_):\n",
    "        k = karger(G, vol)\n",
    "        n = naive(G, vol)\n",
    "        \n",
    "        if k == min_:\n",
    "            count_min_k += 1\n",
    "        if n == min_:\n",
    "            count_min_n += 1\n",
    "             \n",
    "            \n",
    "    prob_k = count_min_k/iter_\n",
    "    x_vol.append(vol)\n",
    "    y_k_prob.append(prob_k)\n",
    "    y_n_prob.append(count_min_n/iter_)\n",
    "    \n",
    "    vol += 10\n",
    "\n",
    "    print(vol)\n",
    "    if vol >= 50:\n",
    "        break  "
   ]
  },
  {
   "cell_type": "code",
   "execution_count": 90,
   "metadata": {},
   "outputs": [
    {
     "data": {
      "image/png": "[encoded data removed]",
      "text/plain": [
       "<Figure size 432x288 with 1 Axes>"
      ]
     },
     "metadata": {
      "needs_background": "light"
     },
     "output_type": "display_data"
    }
   ],
   "source": [
    "plt.plot()\n",
    "plt.plot(x_vol, y_k_prob, label = \"P_karger\")\n",
    "plt.plot(x_vol, y_n_prob, label = \"P_naive\")\n",
    "plt.title(\"Exec = 1500\")\n",
    "plt.xlabel(\"Interações (vol)\")\n",
    "plt.ylabel(\"P(corte mínimo)\")\n",
    "plt.legend()\n",
    "plt.show()"
   ]
  },
  {
   "cell_type": "code",
   "execution_count": 87,
   "metadata": {},
   "outputs": [
    {
     "data": {
      "text/plain": [
       "[0.1805,\n",
       " 0.278,\n",
       " 0.348,\n",
       " 0.411,\n",
       " 0.48,\n",
       " 0.512,\n",
       " 0.591,\n",
       " 0.6125,\n",
       " 0.648,\n",
       " 0.6835,\n",
       " 0.7185,\n",
       " 0.7535,\n",
       " 0.792,\n",
       " 0.799,\n",
       " 0.828,\n",
       " 0.838,\n",
       " 0.8345,\n",
       " 0.8805,\n",
       " 0.882,\n",
       " 0.9005,\n",
       " 0.8985,\n",
       " 0.9055,\n",
       " 0.929,\n",
       " 0.935,\n",
       " 0.9305,\n",
       " 0.941,\n",
       " 0.9475,\n",
       " 0.9485]"
      ]
     },
     "execution_count": 87,
     "metadata": {},
     "output_type": "execute_result"
    }
   ],
   "source": [
    "y_k_prob"
   ]
  }
 ],
 "metadata": {
  "kernelspec": {
   "display_name": "Python 3",
   "language": "python",
   "name": "python3"
  },
  "language_info": {
   "codemirror_mode": {
    "name": "ipython",
    "version": 3
   },
   "file_extension": ".py",
   "mimetype": "text/x-python",
   "name": "python",
   "nbconvert_exporter": "python",
   "pygments_lexer": "ipython3",
   "version": "3.9.7"
  },
  "orig_nbformat": 4
 },
 "nbformat": 4,
 "nbformat_minor": 2
}
