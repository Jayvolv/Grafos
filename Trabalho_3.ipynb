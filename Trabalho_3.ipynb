{
 "cells": [
  {
   "cell_type": "markdown",
   "metadata": {},
   "source": [
    "# Trabalho 3"
   ]
  },
  {
   "cell_type": "code",
   "execution_count": 1,
   "metadata": {},
   "outputs": [],
   "source": [
    "from auxx import *\n",
    "from graph import *\n",
    "import random as rd\n",
    "import matplotlib.pyplot as plt\n",
    "from tqdm import tqdm"
   ]
  },
  {
   "cell_type": "code",
   "execution_count": 2,
   "metadata": {},
   "outputs": [],
   "source": [
    "G = graph.from_a_file(\"graph_type1_2\")"
   ]
  },
  {
   "cell_type": "markdown",
   "metadata": {},
   "source": [
    "# Algoritmo de Karger"
   ]
  },
  {
   "cell_type": "code",
   "execution_count": 3,
   "metadata": {},
   "outputs": [],
   "source": [
    "def karger_alg(G : graph):\n",
    "    vert = list(range(G.vec_num))\n",
    "    edges = G.edges_list\n",
    "    # vertex_dict = {}\n",
    "    while(len(vert) != 2):\n",
    "        \n",
    "        choice = rd.choice(edges)\n",
    "\n",
    "        new_vert = max(vert)+1 #cria novo vertice\n",
    "        vert.append(new_vert) #adiciona ao vertices\n",
    "\n",
    "        # remove os vertices concatenados\n",
    "        vert.remove(choice[0]) \n",
    "        vert.remove(choice[1])\n",
    "        \n",
    "        new_edges = [] #Criando uma lista de novas arestas\n",
    "        # vertex_dict[new_vert] = (choice) #criando um dicionario com a representação dos vertices\n",
    "\n",
    "\n",
    "        for e in edges: #percorrendo cada vertice antigo\n",
    "            if sorted(e) == sorted(choice): #não adiciona as arestas concatenadas\n",
    "                continue\n",
    "\n",
    "            #muda o valor dos antigos vertices para o novo vertice\n",
    "            elif choice[0] == e[0] or choice[1] == e[0]:\n",
    "                new_edges.append((new_vert,e[1]))\n",
    "\n",
    "            elif choice[0] == e[1] or choice [1] == e[1]:\n",
    "                new_edges.append((e[0], new_vert))\n",
    "\n",
    "            #mantem as arrestas de outros vertices\n",
    "            else:\n",
    "                new_edges.append(e)\n",
    "        edges = new_edges\n",
    "    \n",
    "    \n",
    "    return len(edges)\n",
    "            \n"
   ]
  },
  {
   "cell_type": "code",
   "execution_count": 4,
   "metadata": {},
   "outputs": [],
   "source": [
    "def karger(G : graph, vol : int):\n",
    "    results_list = []\n",
    "\n",
    "    for i in range(vol):\n",
    "        results_list.append(karger_alg(G))\n",
    "    \n",
    "    return min(results_list) #retorno minimo"
   ]
  },
  {
   "cell_type": "markdown",
   "metadata": {},
   "source": [
    "## Algoritmo Ingenuo"
   ]
  },
  {
   "cell_type": "code",
   "execution_count": 5,
   "metadata": {},
   "outputs": [],
   "source": [
    "def naive_alg (G : graph):\n",
    "    vertices = []\n",
    "    blue_list = []\n",
    "    red_list = []\n",
    "    min_cut = 0\n",
    "\n",
    "    for i in range (G.vec_num): #gerando a lista dos vértices\n",
    "        vertices.append(i)\n",
    "\n",
    "    while (len(vertices) > 0):\n",
    "        choice = rd.choice(vertices)\n",
    "\n",
    "        if (len(blue_list) <= len(red_list)):\n",
    "            blue_list.append(choice)\n",
    "\n",
    "            for k in red_list:\n",
    "                if G.are_neigh(choice + 1, k + 1):\n",
    "                    min_cut = min_cut + 1\n",
    "        \n",
    "        else:\n",
    "            red_list.append(choice)\n",
    "\n",
    "            for k in blue_list:\n",
    "                if G.are_neigh(choice + 1, k + 1):\n",
    "                    min_cut = min_cut + 1\n",
    "        \n",
    "        vertices.remove(choice)\n",
    "    \n",
    "    return min_cut"
   ]
  },
  {
   "cell_type": "code",
   "execution_count": 6,
   "metadata": {},
   "outputs": [],
   "source": [
    "def naive (G : graph, iter_ : int):\n",
    "    results_list = []\n",
    "\n",
    "    for i in range (iter_):\n",
    "        results_list.append(naive_alg(G))\n",
    "\n",
    "    return min(results_list) #MInimo"
   ]
  },
  {
   "cell_type": "markdown",
   "metadata": {},
   "source": [
    "## PROBABILIDADES"
   ]
  },
  {
   "cell_type": "markdown",
   "metadata": {},
   "source": [
    "### Probabilidade de não aparição do melhor\n",
    "\n",
    "$$P = (1 - \\frac {2}{n^2 - n} )^N$$\n",
    "\n",
    "n = numero de vertices <br>\n",
    "N = numero de execuções"
   ]
  },
  {
   "cell_type": "markdown",
   "metadata": {},
   "source": [
    "### Probabilidade de aparições por execuções dos algoritmos\n",
    "A = Aparição do menor corte <br>\n",
    "B = Aparição do não menor corte\n",
    "\n",
    "$$ P(A.B) = \\frac {P(A)} {P(A)+P(B)} $$"
   ]
  },
  {
   "cell_type": "code",
   "execution_count": 85,
   "metadata": {},
   "outputs": [],
   "source": [
    "def descompact(tuple_):\n",
    "    vert, vertex_dict = tuple_\n",
    "    blue_list = []\n",
    "    red_list = []\n",
    "\n",
    "    blue_list.append(vert[0])\n",
    "    red_list.append(vert[1])\n",
    "\n",
    "    print(blue_list)\n",
    "\n",
    "    aux = []\n",
    "\n",
    "    while(len(vertex_dict.keys())):\n",
    "        print(len(vertex_dict.keys()))\n",
    "        print(vertex_dict.keys())\n",
    "\n",
    "        for v in blue_list:\n",
    "            if v not in vertex_dict.keys():\n",
    "                print(v, \"eita blue\")\n",
    "                break\n",
    "\n",
    "            blue_list.append(vertex_dict[v][0])\n",
    "            blue_list.append(vertex_dict[v][1])\n",
    "            blue_list.remove(v)\n",
    "            del vertex_dict[v]\n",
    "            print(vertex_dict[v])\n",
    "        \n",
    "\n",
    "        for v in red_list:\n",
    "            if v not in vertex_dict.keys():\n",
    "                print(v, \"eita red\")\n",
    "                print(vertex_dict[v])\n",
    "                break\n",
    "\n",
    "            red_list.append(vertex_dict[v][0])\n",
    "            red_list.append(vertex_dict[v][1])\n",
    "            red_list.remove(v)\n",
    "            del vertex_dict[v]\n",
    "        \n",
    "    \n",
    "    return red_list, blue_list"
   ]
  },
  {
   "cell_type": "code",
   "execution_count": 7,
   "metadata": {},
   "outputs": [],
   "source": [
    "def prob_karger(G: graph, inter_ : int, vol: int, min_ : int):\n",
    "    min_counter = 0\n",
    "    \n",
    "    for i in range(inter_):\n",
    "        k = karger(G, vol)\n",
    "\n",
    "        if k == min_:\n",
    "            min_counter += 1\n",
    "    \n",
    "    return (min_counter/inter_)\n"
   ]
  },
  {
   "cell_type": "code",
   "execution_count": 66,
   "metadata": {},
   "outputs": [],
   "source": [
    "def prob_karger_function (G: graph, inter_ : int, vol: int, min_ : int, step : int):\n",
    "    x_o = []\n",
    "    y_o = []\n",
    "    x = inter_\n",
    "    y = 0\n",
    "\n",
    "    while (y < 0.98):\n",
    "        y = prob_karger(G, x, vol, min_)\n",
    "        print(x, y)\n",
    "        x_o.append(x)\n",
    "        y_o.append(y)\n",
    "        x += step\n",
    "\n",
    "        if x >= 10000:\n",
    "            break\n",
    "    \n",
    "    return x_o, y_o\n"
   ]
  },
  {
   "cell_type": "code",
   "execution_count": 72,
   "metadata": {},
   "outputs": [
    {
     "name": "stdout",
     "output_type": "stream",
     "text": [
      "100 1.0\n",
      "[100] [1.0]\n"
     ]
    }
   ],
   "source": [
    "x, y = prob_karger_function(G = G, inter_ = 100, vol = 10, min_ = 2, step = 50)\n",
    "print(x, y)"
   ]
  },
  {
   "cell_type": "code",
   "execution_count": 53,
   "metadata": {},
   "outputs": [
    {
     "data": {
      "image/png": "[encoded data removed]",
      "text/plain": [
       "<Figure size 640x480 with 1 Axes>"
      ]
     },
     "metadata": {},
     "output_type": "display_data"
    }
   ],
   "source": [
    "plt.plot()\n",
    "plt.plot(x, y, label = \"P_karger\")\n",
    "plt.xlabel(\"Iterações\")\n",
    "plt.ylabel(\"P(corte mínimo)\")\n",
    "plt.legend()\n",
    "plt.show()"
   ]
  }
 ],
 "metadata": {
  "kernelspec": {
   "display_name": "Python 3",
   "language": "python",
   "name": "python3"
  },
  "language_info": {
   "codemirror_mode": {
    "name": "ipython",
    "version": 3
   },
   "file_extension": ".py",
   "mimetype": "text/x-python",
   "name": "python",
   "nbconvert_exporter": "python",
   "pygments_lexer": "ipython3",
   "version": "3.10.12"
  },
  "orig_nbformat": 4
 },
 "nbformat": 4,
 "nbformat_minor": 2
}
