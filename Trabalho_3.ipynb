{
 "cells": [
  {
   "cell_type": "markdown",
   "metadata": {},
   "source": [
    "# Trabalho 3"
   ]
  },
  {
   "cell_type": "markdown",
   "metadata": {},
   "source": [
    "# Algoritmo de Karger"
   ]
  },
  {
   "cell_type": "code",
   "execution_count": 270,
   "metadata": {},
   "outputs": [],
   "source": [
    "from auxx import *\n",
    "import random as rd"
   ]
  },
  {
   "cell_type": "code",
   "execution_count": 271,
   "metadata": {},
   "outputs": [],
   "source": [
    "def karger(vert : list, edges : list, vertex_dict : dict):\n",
    "    \n",
    "    choice = rd.choice(edges) #escolhe aresta aleatoria\n",
    "\n",
    "    new_vert = max(vert)+1 #cria novo vertice\n",
    "    vert.append(new_vert) #adiciona ao vertices\n",
    "\n",
    "    # remove os vertices concatenado\n",
    "    vert.remove(choice[0]) \n",
    "    vert.remove(choice[1])\n",
    "    \n",
    "    new_edges = [] #Criando uma lista de novas arestas\n",
    "    vertex_dict[new_vert] = (choice) #criando um dicionario com a representação dos vertices\n",
    "\n",
    "\n",
    "    for e in edges: #percorrendo cada vertice antigo\n",
    "        if sorted(e) == sorted(choice): #não adiciona as arestas concatenadas\n",
    "            continue\n",
    "\n",
    "        #muda o valor dos antigos vertices para o novo vertice\n",
    "        elif choice[0] == e[0] or choice[1] == e[0]:\n",
    "            new_edges.append((new_vert,e[1]))\n",
    "\n",
    "        elif choice[0] == e[1] or choice [1] == e[1]:\n",
    "            new_edges.append((e[0], new_vert))\n",
    "\n",
    "        #mantem as arrestas de outros vertices\n",
    "        else:\n",
    "            new_edges.append(e)\n",
    "  \n",
    "    \n",
    "    #se não tiver somente 2 vertices, entra de forma recursiva\n",
    "    if len(vert) != 2:\n",
    "        vert, new_edges, vertex_dict = karger(vert, new_edges, vertex_dict)\n",
    "    \n",
    "    return vert, new_edges, vertex_dict\n"
   ]
  },
  {
   "cell_type": "code",
   "execution_count": 272,
   "metadata": {},
   "outputs": [],
   "source": [
    "from graph import *\n",
    "\n",
    "G = graph.from_a_file(\"graph_test\")"
   ]
  },
  {
   "cell_type": "code",
   "execution_count": 273,
   "metadata": {},
   "outputs": [
    {
     "data": {
      "text/plain": [
       "7"
      ]
     },
     "execution_count": 273,
     "metadata": {},
     "output_type": "execute_result"
    }
   ],
   "source": [
    "len(G.list_)"
   ]
  },
  {
   "cell_type": "code",
   "execution_count": 274,
   "metadata": {},
   "outputs": [],
   "source": [
    "def karger(vert : list, edges : list, vertex_dict : dict):\n",
    "    \n",
    "    choice = rd.choice(edges) #escolhe aresta aleatoria\n",
    "\n",
    "    new_vert = max(vert)+1 #cria novo vertice\n",
    "    vert.append(new_vert) #adiciona ao vertices\n",
    "\n",
    "    # remove os vertices concatenado\n",
    "    vert.remove(choice[0]) \n",
    "    vert.remove(choice[1])\n",
    "    \n",
    "    new_edges = [] #Criando uma lista de novas arestas\n",
    "    vertex_dict[new_vert] = (choice) #criando um dicionario com a representação dos vertices\n",
    "\n",
    "    #remove as arestas que ligam o novo vertice aos outros vertices\n",
    "    for e in edges:\n",
    "        if e[0] == new_vert or e[1] == new_vert:\n",
    "            new_edges.remove(e)\n",
    "\n",
    "    for e in edges:\n",
    "        if sorted(e) == sorted(choice): #não adiciona as arestas concatenadas\n",
    "            continue\n",
    "\n",
    "        #muda o valor dos antigos vertices para o novo vertice\n",
    "        elif choice[0] == e[0] or choice[1] == e[0]:\n",
    "            new_edges.append((new_vert,e[1]))\n",
    "\n",
    "        elif choice[0] == e[1] or choice [1] == e[1]:\n",
    "            new_edges.append((e[0], new_vert))\n",
    "\n",
    "        #mantem as arrestas de outros vertices\n",
    "        else:\n",
    "            new_edges.append(e)\n",
    "  \n",
    "    \n",
    "    #se não tiver somente 2 vertices, entra de forma recursiva\n",
    "    if len(vert) != 2:\n",
    "        vert, new_edges, vertex_dict = karger(vert, new_edges, vertex_dict)\n",
    "    \n",
    "    return vert, new_edges, vertex_dict\n"
   ]
  },
  {
   "cell_type": "code",
   "execution_count": 275,
   "metadata": {},
   "outputs": [],
   "source": [
    "vert, new_edges, vertex_dict = karger(list(range(G.vec_num)), G.edges_list, {})"
   ]
  },
  {
   "cell_type": "code",
   "execution_count": 276,
   "metadata": {},
   "outputs": [
    {
     "data": {
      "text/plain": [
       "6"
      ]
     },
     "execution_count": 276,
     "metadata": {},
     "output_type": "execute_result"
    }
   ],
   "source": [
    "len(new_edges)"
   ]
  },
  {
   "cell_type": "code",
   "execution_count": 277,
   "metadata": {},
   "outputs": [
    {
     "data": {
      "text/plain": [
       "[(11, 5), (11, 5), (5, 11), (5, 11), (5, 11), (11, 5)]"
      ]
     },
     "execution_count": 277,
     "metadata": {},
     "output_type": "execute_result"
    }
   ],
   "source": [
    "new_edges"
   ]
  },
  {
   "cell_type": "markdown",
   "metadata": {},
   "source": [
    "$$(1 - \\frac {2}{n^2 - n} )^N$$\n",
    "\n",
    "n = numero de vertices <br>\n",
    "N = numero de execuções"
   ]
  },
  {
   "cell_type": "code",
   "execution_count": 278,
   "metadata": {},
   "outputs": [],
   "source": [
    "N = 0\n",
    "P = 1\n",
    "slice_ = []\n",
    "result_karger = {}\n",
    "result_P = []\n",
    "while(P > 0.1):\n",
    "    N += 1\n",
    "    P = pow((1 - (2/ (pow(G.vec_num, 2) - G.vec_num))), N)\n",
    "    \n",
    "    vert, new_edges, vertex_dict = karger(list(range(G.vec_num)), G.edges_list, {})\n",
    "    slice_.append(len(new_edges))\n",
    "    result_karger[slice_[-1]] = (vert, vertex_dict)\n",
    "\n",
    "    result_P.append(P)"
   ]
  },
  {
   "cell_type": "code",
   "execution_count": 279,
   "metadata": {},
   "outputs": [],
   "source": [
    "def descompact(tuple_):\n",
    "    vert, vertex_dict = tuple_\n",
    "    blue_list = []\n",
    "    red_list = []\n",
    "\n",
    "    blue_list.append(vert[0])\n",
    "    red_list.append(vert[1])\n",
    "\n",
    "    print(blue_list)\n",
    "\n",
    "    aux = []\n",
    "\n",
    "    while(len(vertex_dict.keys())):\n",
    "        print(len(vertex_dict.keys()))\n",
    "        print(vertex_dict.keys())\n",
    "\n",
    "        for v in blue_list:\n",
    "            if v not in vertex_dict.keys():\n",
    "                print(v, \"eita blue\")\n",
    "                break\n",
    "\n",
    "            blue_list.append(vertex_dict[v][0])\n",
    "            blue_list.append(vertex_dict[v][1])\n",
    "            blue_list.remove(v)\n",
    "            del vertex_dict[v]\n",
    "            print(vertex_dict[v])\n",
    "        \n",
    "\n",
    "        for v in red_list:\n",
    "            if v not in vertex_dict.keys():\n",
    "                print(v, \"eita red\")\n",
    "                print(vertex_dict[v])\n",
    "                break\n",
    "\n",
    "            red_list.append(vertex_dict[v][0])\n",
    "            red_list.append(vertex_dict[v][1])\n",
    "            red_list.remove(v)\n",
    "            del vertex_dict[v]\n",
    "        \n",
    "    \n",
    "    return red_list, blue_list"
   ]
  },
  {
   "cell_type": "code",
   "execution_count": 280,
   "metadata": {},
   "outputs": [],
   "source": [
    "import matplotlib.pyplot as plt"
   ]
  },
  {
   "cell_type": "code",
   "execution_count": 281,
   "metadata": {},
   "outputs": [
    {
     "data": {
      "text/plain": [
       "4"
      ]
     },
     "execution_count": 281,
     "metadata": {},
     "output_type": "execute_result"
    }
   ],
   "source": [
    "min(result_karger)"
   ]
  },
  {
   "cell_type": "code",
   "execution_count": 282,
   "metadata": {},
   "outputs": [
    {
     "data": {
      "text/plain": [
       "Text(0, 0.5, 'Probabilidade de não melhor')"
      ]
     },
     "execution_count": 282,
     "metadata": {},
     "output_type": "execute_result"
    },
    {
     "data": {
      "image/png": "[encoded data removed]",
      "text/plain": [
       "<Figure size 640x480 with 1 Axes>"
      ]
     },
     "metadata": {},
     "output_type": "display_data"
    }
   ],
   "source": [
    "plt.plot(list(range(len(result_P))), result_P)\n",
    "plt.title(\"Probabilidade de não ser o melhor valor\")\n",
    "plt.text(5, .8, f\"Corte = {min(slice_)} arestas\")\n",
    "\n",
    "plt.xlabel('Numero de execuções do Algoritmo')\n",
    "plt.ylabel('Probabilidade de não melhor')"
   ]
  },
  {
   "cell_type": "code",
   "execution_count": 283,
   "metadata": {},
   "outputs": [
    {
     "data": {
      "text/plain": [
       "4"
      ]
     },
     "execution_count": 283,
     "metadata": {},
     "output_type": "execute_result"
    }
   ],
   "source": [
    "min(result_karger)"
   ]
  },
  {
   "cell_type": "code",
   "execution_count": null,
   "metadata": {},
   "outputs": [],
   "source": []
  }
 ],
 "metadata": {
  "kernelspec": {
   "display_name": "Python 3",
   "language": "python",
   "name": "python3"
  },
  "language_info": {
   "codemirror_mode": {
    "name": "ipython",
    "version": 3
   },
   "file_extension": ".py",
   "mimetype": "text/x-python",
   "name": "python",
   "nbconvert_exporter": "python",
   "pygments_lexer": "ipython3",
   "version": "3.11.3"
  },
  "orig_nbformat": 4
 },
 "nbformat": 4,
 "nbformat_minor": 2
}
