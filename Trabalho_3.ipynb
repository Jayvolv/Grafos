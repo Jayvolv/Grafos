{
 "cells": [
  {
   "cell_type": "markdown",
   "metadata": {},
   "source": [
    "# Trabalho 3"
   ]
  },
  {
   "cell_type": "markdown",
   "metadata": {},
   "source": [
    "### Alunos: João Victor Soares Silva - 20210027300\n",
    "###         Jonas Felipe da Fonseca Oliveira - 20210026948\n",
    "### Disciplina: Teoria dos Grafos Aplicada"
   ]
  },
  {
   "cell_type": "code",
   "execution_count": 1,
   "metadata": {},
   "outputs": [],
   "source": [
    "from auxx import *\n",
    "from graph import *\n",
    "import random as rd\n",
    "import matplotlib.pyplot as plt"
   ]
  },
  {
   "cell_type": "code",
   "execution_count": 2,
   "metadata": {},
   "outputs": [],
   "source": [
    "G = graph.from_a_file(\"graph_type2_2\")"
   ]
  },
  {
   "cell_type": "markdown",
   "metadata": {},
   "source": [
    "# Algoritmo de Karger"
   ]
  },
  {
   "cell_type": "code",
   "execution_count": 3,
   "metadata": {},
   "outputs": [],
   "source": [
    "def karger_alg(G : graph):\n",
    "    vert = list(range(G.vec_num))\n",
    "    edges = G.edges_list\n",
    "    # vertex_dict = {}\n",
    "    while(len(vert) != 2):\n",
    "        \n",
    "        choice = rd.choice(edges)\n",
    "\n",
    "        new_vert = max(vert)+1 #cria novo vertice\n",
    "        vert.append(new_vert) #adiciona ao vertices\n",
    "\n",
    "        # remove os vertices concatenados\n",
    "        vert.remove(choice[0]) \n",
    "        vert.remove(choice[1])\n",
    "        \n",
    "        new_edges = [] #Criando uma lista de novas arestas\n",
    "        # vertex_dict[new_vert] = (choice) #criando um dicionario com a representação dos vertices\n",
    "\n",
    "        for e in edges: #percorrendo cada vertice antigo\n",
    "            if sorted(e) == sorted(choice): #não adiciona as arestas concatenadas\n",
    "                continue\n",
    "\n",
    "            #muda o valor dos antigos vertices para o novo vertice\n",
    "            elif choice[0] == e[0] or choice[1] == e[0]:\n",
    "                new_edges.append((new_vert,e[1]))\n",
    "\n",
    "            elif choice[0] == e[1] or choice [1] == e[1]:\n",
    "                new_edges.append((e[0], new_vert))\n",
    "\n",
    "            #mantem as arrestas de outros vertices\n",
    "            else:\n",
    "                new_edges.append(e)\n",
    "        edges = new_edges\n",
    "    \n",
    "    \n",
    "    return len(edges)"
   ]
  },
  {
   "cell_type": "code",
   "execution_count": 4,
   "metadata": {},
   "outputs": [],
   "source": [
    "def karger(G : graph, vol : int):\n",
    "    results_list = []\n",
    "\n",
    "    for i in range(vol):\n",
    "        results_list.append(karger_alg(G))\n",
    "    \n",
    "    return min(results_list) #retorno minimo"
   ]
  },
  {
   "cell_type": "markdown",
   "metadata": {},
   "source": [
    "# Algoritmo Ingênuo"
   ]
  },
  {
   "cell_type": "code",
   "execution_count": 5,
   "metadata": {},
   "outputs": [],
   "source": [
    "def naive_alg (G : graph):\n",
    "    vertices = []\n",
    "    visited_list = []\n",
    "    blue_list = []\n",
    "    red_list = []\n",
    "    min_cut = 0\n",
    "\n",
    "    for i in range (G.vec_num): #gerando a lista dos vértices\n",
    "        vertices.append(i)\n",
    "\n",
    "    while (len(vertices) > 0):\n",
    "        choice = rd.choice(vertices)\n",
    "\n",
    "        if (len(blue_list) <= len(red_list)):\n",
    "            blue_list.append(choice)\n",
    "\n",
    "            for k in red_list:\n",
    "                if G.are_neigh(choice + 1, k + 1):\n",
    "                    if sorted([choice, k]) not in visited_list:\n",
    "                        visited_list.append(sorted([choice, k]))\n",
    "                        min_cut = min_cut + 1\n",
    "        \n",
    "        else:\n",
    "            red_list.append(choice)\n",
    "\n",
    "            for k in blue_list:                \n",
    "                if G.are_neigh(choice + 1, k + 1):\n",
    "                    if sorted([choice, k]) not in visited_list:\n",
    "                        visited_list.append(sorted([choice, k]))\n",
    "                        min_cut = min_cut + 1\n",
    "        \n",
    "        vertices.remove(choice)\n",
    "    \n",
    "    return min_cut"
   ]
  },
  {
   "cell_type": "code",
   "execution_count": 6,
   "metadata": {},
   "outputs": [],
   "source": [
    "def naive (G : graph, iter_ : int):\n",
    "    results_list = []\n",
    "\n",
    "    for i in range (iter_):\n",
    "        results_list.append(naive_alg(G))\n",
    "\n",
    "    return min(results_list) #Mínimo"
   ]
  },
  {
   "cell_type": "markdown",
   "metadata": {},
   "source": [
    "# Função Descompact"
   ]
  },
  {
   "cell_type": "code",
   "execution_count": 7,
   "metadata": {},
   "outputs": [],
   "source": [
    "def descompact(tuple_):\n",
    "    vert, vertex_dict = tuple_\n",
    "    blue_list = []\n",
    "    red_list = []\n",
    "\n",
    "    blue_list.append(vert[0])\n",
    "    red_list.append(vert[1])\n",
    "\n",
    "    print(blue_list)\n",
    "\n",
    "    aux = []\n",
    "\n",
    "    while(len(vertex_dict.keys())):\n",
    "        print(len(vertex_dict.keys()))\n",
    "        print(vertex_dict.keys())\n",
    "\n",
    "        for v in blue_list:\n",
    "            if v not in vertex_dict.keys():\n",
    "                print(v, \"eita blue\")\n",
    "                break\n",
    "\n",
    "            blue_list.append(vertex_dict[v][0])\n",
    "            blue_list.append(vertex_dict[v][1])\n",
    "            blue_list.remove(v)\n",
    "            del vertex_dict[v]\n",
    "            print(vertex_dict[v])\n",
    "        \n",
    "\n",
    "        for v in red_list:\n",
    "            if v not in vertex_dict.keys():\n",
    "                print(v, \"eita red\")\n",
    "                print(vertex_dict[v])\n",
    "                break\n",
    "\n",
    "            red_list.append(vertex_dict[v][0])\n",
    "            red_list.append(vertex_dict[v][1])\n",
    "            red_list.remove(v)\n",
    "            del vertex_dict[v]\n",
    "        \n",
    "    \n",
    "    return red_list, blue_list"
   ]
  },
  {
   "cell_type": "markdown",
   "metadata": {},
   "source": [
    "# Probabilidade e Gráfico"
   ]
  },
  {
   "cell_type": "code",
   "execution_count": 15,
   "metadata": {},
   "outputs": [],
   "source": [
    "def P_Karger_and_Naive (G : graph, exec : int, iter : int, step : int, min_ : int, tol : int, max_iter : int):\n",
    "    p = 0\n",
    "    x_iter = []\n",
    "    y_k_prob = []\n",
    "    y_n_prob = []\n",
    "\n",
    "    while (p <= tol):\n",
    "        p = 0\n",
    "        count_min_k = 0 #conta os cortes mínimos do algoritmo de karger\n",
    "        count_min_n = 0 #conta os cortes mínimos do algoritmo ingênuo\n",
    "\n",
    "        for i in range (exec):\n",
    "            k = karger (G, iter)\n",
    "            n = naive (G, iter)\n",
    "            \n",
    "            if k == min_:\n",
    "                count_min_k += 1\n",
    "            if n == min_:\n",
    "                count_min_n += 1\n",
    "                \n",
    "        prob_k = count_min_k / exec\n",
    "        prob_n = count_min_n / exec\n",
    "\n",
    "        x_iter.append(iter)\n",
    "        y_k_prob.append(prob_k)\n",
    "        y_n_prob.append(prob_n)\n",
    "        \n",
    "        iter += step\n",
    "        if iter >= max_iter:\n",
    "            break\n",
    "    \n",
    "    return x_iter, y_k_prob, y_n_prob"
   ]
  },
  {
   "cell_type": "code",
   "execution_count": 16,
   "metadata": {},
   "outputs": [],
   "source": [
    "x, y_k, y_n = P_Karger_and_Naive(G = G, exec = 10000, iter = 5, step = 10, min_ = 5, tol = 0.995, max_iter = 50)"
   ]
  },
  {
   "cell_type": "code",
   "execution_count": 17,
   "metadata": {},
   "outputs": [
    {
     "data": {
      "image/png": "[encoded data removed]",
      "text/plain": [
       "<Figure size 640x480 with 1 Axes>"
      ]
     },
     "metadata": {},
     "output_type": "display_data"
    }
   ],
   "source": [
    "plt.plot()\n",
    "plt.plot(x, y_k, label = \"P_karger\")\n",
    "plt.plot(x, y_n, label = \"P_naive\")\n",
    "plt.title(\"Exec = 10000\")\n",
    "plt.xlabel(\"Iterações (vol)\")\n",
    "plt.ylabel(\"P (corte mínimo)\")\n",
    "plt.legend()\n",
    "plt.show()"
   ]
  }
 ],
 "metadata": {
  "kernelspec": {
   "display_name": "Python 3",
   "language": "python",
   "name": "python3"
  },
  "language_info": {
   "codemirror_mode": {
    "name": "ipython",
    "version": 3
   },
   "file_extension": ".py",
   "mimetype": "text/x-python",
   "name": "python",
   "nbconvert_exporter": "python",
   "pygments_lexer": "ipython3",
   "version": "3.10.12"
  },
  "orig_nbformat": 4
 },
 "nbformat": 4,
 "nbformat_minor": 2
}
