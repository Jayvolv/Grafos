{
 "cells": [
  {
   "cell_type": "markdown",
   "metadata": {},
   "source": [
    "# Trabalho 3"
   ]
  },
  {
   "cell_type": "code",
   "execution_count": 26,
   "metadata": {},
   "outputs": [],
   "source": [
    "from auxx import *\n",
    "from graph import *\n",
    "import random as rd\n",
    "import matplotlib.pyplot as plt\n",
    "from tqdm import tqdm"
   ]
  },
  {
   "cell_type": "code",
   "execution_count": 13,
   "metadata": {},
   "outputs": [],
   "source": [
    "G = graph.from_a_file(\"graph_type1_1_in\")"
   ]
  },
  {
   "cell_type": "markdown",
   "metadata": {},
   "source": [
    "# Algoritmo de Karger"
   ]
  },
  {
   "cell_type": "code",
   "execution_count": 14,
   "metadata": {},
   "outputs": [],
   "source": [
    "def karger_alg(G : graph):\n",
    "    vert = list(range(G.vec_num))\n",
    "    edges = G.edges_list\n",
    "    # vertex_dict = {}\n",
    "    while(len(vert) != 2):\n",
    "        \n",
    "        choice = rd.choice(edges)\n",
    "\n",
    "        new_vert = max(vert)+1 #cria novo vertice\n",
    "        vert.append(new_vert) #adiciona ao vertices\n",
    "\n",
    "        # remove os vertices concatenados\n",
    "        vert.remove(choice[0]) \n",
    "        vert.remove(choice[1])\n",
    "        \n",
    "        new_edges = [] #Criando uma lista de novas arestas\n",
    "        # vertex_dict[new_vert] = (choice) #criando um dicionario com a representação dos vertices\n",
    "\n",
    "\n",
    "        for e in edges: #percorrendo cada vertice antigo\n",
    "            if sorted(e) == sorted(choice): #não adiciona as arestas concatenadas\n",
    "                continue\n",
    "\n",
    "            #muda o valor dos antigos vertices para o novo vertice\n",
    "            elif choice[0] == e[0] or choice[1] == e[0]:\n",
    "                new_edges.append((new_vert,e[1]))\n",
    "\n",
    "            elif choice[0] == e[1] or choice [1] == e[1]:\n",
    "                new_edges.append((e[0], new_vert))\n",
    "\n",
    "            #mantem as arrestas de outros vertices\n",
    "            else:\n",
    "                new_edges.append(e)\n",
    "        edges = new_edges\n",
    "    \n",
    "    \n",
    "    return len(edges)\n",
    "            \n"
   ]
  },
  {
   "cell_type": "code",
   "execution_count": 28,
   "metadata": {},
   "outputs": [],
   "source": [
    "def karger(G : graph, iter_ : int, min_ : int):\n",
    "    results_list = []\n",
    "\n",
    "    for i in range(iter_):\n",
    "        results_list.append(karger_alg(G))\n",
    "    \n",
    "    return (results_list.count(min)/len(results_list)) #Probabilidade"
   ]
  },
  {
   "cell_type": "markdown",
   "metadata": {},
   "source": [
    "## Algoritmo Ingenuo"
   ]
  },
  {
   "cell_type": "code",
   "execution_count": 15,
   "metadata": {},
   "outputs": [],
   "source": [
    "def naive_alg (G : graph):\n",
    "    vertices = []\n",
    "    blue_list = []\n",
    "    red_list = []\n",
    "    min_cut = 0\n",
    "\n",
    "    for i in range (G.vec_num): #gerando a lista dos vértices\n",
    "        vertices.append(i)\n",
    "\n",
    "    while (len(vertices) > 0):\n",
    "        choice = rd.choice(vertices)\n",
    "\n",
    "        if (len(blue_list) <= len(red_list)):\n",
    "            blue_list.append(choice)\n",
    "\n",
    "            for k in red_list:\n",
    "                if G.are_neigh(choice + 1, k + 1):\n",
    "                    min_cut = min_cut + 1\n",
    "        \n",
    "        else:\n",
    "            red_list.append(choice)\n",
    "\n",
    "            for k in blue_list:\n",
    "                if G.are_neigh(choice + 1, k + 1):\n",
    "                    min_cut = min_cut + 1\n",
    "        \n",
    "        vertices.remove(choice)\n",
    "    \n",
    "    return min_cut"
   ]
  },
  {
   "cell_type": "code",
   "execution_count": 29,
   "metadata": {},
   "outputs": [],
   "source": [
    "def naive (G : graph, iter_ : int, min_ : int):\n",
    "    results_list = []\n",
    "\n",
    "    for i in range (iter_):\n",
    "        results_list.append(naive_alg(G))\n",
    "\n",
    "    return (results_list.count(min)/len(results_list)) #Probabilidade"
   ]
  },
  {
   "cell_type": "markdown",
   "metadata": {},
   "source": [
    "## PROBABILIDADES"
   ]
  },
  {
   "cell_type": "markdown",
   "metadata": {},
   "source": [
    "### Probabilidade de não aparição do melhor\n",
    "\n",
    "$$P = (1 - \\frac {2}{n^2 - n} )^N$$\n",
    "\n",
    "n = numero de vertices <br>\n",
    "N = numero de execuções"
   ]
  },
  {
   "cell_type": "markdown",
   "metadata": {},
   "source": [
    "### Probabilidade de aparições por execuções dos algoritmos\n",
    "A = Aparição do menor corte <br>\n",
    "B = Aparição do não menor corte\n",
    "\n",
    "$$ P(A.B) = \\frac {P(A)} {P(A)+P(B)} $$"
   ]
  },
  {
   "cell_type": "code",
   "execution_count": 30,
   "metadata": {},
   "outputs": [],
   "source": [
    "def prob(G : graph, iter_ : int, min_ : int):\n",
    "    P_nao = []\n",
    "    P_karger = []\n",
    "    P_naive = []\n",
    "    count_ = []\n",
    "    \n",
    "\n",
    "    for i in tqdm(range(10, iter_)):\n",
    "        P_nao.append(pow((1 - (2/ (pow(G.vec_num, 2) - G.vec_num))), i))\n",
    "        P_karger.append(karger(G, i, min_))\n",
    "        P_naive.append(naive(G, i, min_))\n",
    "        count_.append(i)\n",
    "    \n",
    "    return P_nao, P_karger, P_naive, count_"
   ]
  },
  {
   "cell_type": "code",
   "execution_count": 31,
   "metadata": {},
   "outputs": [
    {
     "name": "stderr",
     "output_type": "stream",
     "text": [
      "100%|██████████| 990/990 [01:00<00:00, 16.50it/s]\n"
     ]
    }
   ],
   "source": [
    "P_nao, P_karger, P_naive, count_ = prob(G, 1000, 1)\n"
   ]
  },
  {
   "cell_type": "code",
   "execution_count": 10,
   "metadata": {},
   "outputs": [],
   "source": [
    "def descompact(tuple_):\n",
    "    vert, vertex_dict = tuple_\n",
    "    blue_list = []\n",
    "    red_list = []\n",
    "\n",
    "    blue_list.append(vert[0])\n",
    "    red_list.append(vert[1])\n",
    "\n",
    "    print(blue_list)\n",
    "\n",
    "    aux = []\n",
    "\n",
    "    while(len(vertex_dict.keys())):\n",
    "        print(len(vertex_dict.keys()))\n",
    "        print(vertex_dict.keys())\n",
    "\n",
    "        for v in blue_list:\n",
    "            if v not in vertex_dict.keys():\n",
    "                print(v, \"eita blue\")\n",
    "                break\n",
    "\n",
    "            blue_list.append(vertex_dict[v][0])\n",
    "            blue_list.append(vertex_dict[v][1])\n",
    "            blue_list.remove(v)\n",
    "            del vertex_dict[v]\n",
    "            print(vertex_dict[v])\n",
    "        \n",
    "\n",
    "        for v in red_list:\n",
    "            if v not in vertex_dict.keys():\n",
    "                print(v, \"eita red\")\n",
    "                print(vertex_dict[v])\n",
    "                break\n",
    "\n",
    "            red_list.append(vertex_dict[v][0])\n",
    "            red_list.append(vertex_dict[v][1])\n",
    "            red_list.remove(v)\n",
    "            del vertex_dict[v]\n",
    "        \n",
    "    \n",
    "    return red_list, blue_list"
   ]
  },
  {
   "cell_type": "code",
   "execution_count": 33,
   "metadata": {},
   "outputs": [
    {
     "data": {
      "image/png": "[encoded data removed]",
      "text/plain": [
       "<Figure size 640x480 with 1 Axes>"
      ]
     },
     "metadata": {},
     "output_type": "display_data"
    }
   ],
   "source": [
    "plt.plot()\n",
    "#Como criar um plot com 3 labels\n",
    "# plt.plot(count_, P_nao, label = \"P_nao\")\n",
    "plt.plot(count_, P_karger, label = \"P_karger\")\n",
    "plt.plot(count_, P_naive, label = \"P_naive\")\n",
    "plt.legend()\n",
    "plt.show()"
   ]
  },
  {
   "cell_type": "code",
   "execution_count": 11,
   "metadata": {},
   "outputs": [
    {
     "data": {
      "text/plain": [
       "Text(0, 0.5, 'Probabilidade de não melhor')"
      ]
     },
     "execution_count": 11,
     "metadata": {},
     "output_type": "execute_result"
    },
    {
     "data": {
      "image/png": "[encoded data removed]",
      "text/plain": [
       "<Figure size 640x480 with 1 Axes>"
      ]
     },
     "metadata": {},
     "output_type": "display_data"
    }
   ],
   "source": [
    "plt.plot(list(range(len(result_P))), result_P)\n",
    "plt.title(\"Probabilidade de não ser o melhor valor\")\n",
    "plt.text(5, .8, f\"Corte = {min(result_karger)} arestas\")\n",
    "\n",
    "plt.xlabel('Numero de execuções do Algoritmo')\n",
    "plt.ylabel('Probabilidade de não melhor')"
   ]
  },
  {
   "cell_type": "code",
   "execution_count": 12,
   "metadata": {},
   "outputs": [
    {
     "data": {
      "text/plain": [
       "2"
      ]
     },
     "execution_count": 12,
     "metadata": {},
     "output_type": "execute_result"
    }
   ],
   "source": [
    "min(result_karger)"
   ]
  },
  {
   "cell_type": "code",
   "execution_count": null,
   "metadata": {},
   "outputs": [],
   "source": []
  }
 ],
 "metadata": {
  "kernelspec": {
   "display_name": "Python 3",
   "language": "python",
   "name": "python3"
  },
  "language_info": {
   "codemirror_mode": {
    "name": "ipython",
    "version": 3
   },
   "file_extension": ".py",
   "mimetype": "text/x-python",
   "name": "python",
   "nbconvert_exporter": "python",
   "pygments_lexer": "ipython3",
   "version": "3.11.3"
  },
  "orig_nbformat": 4
 },
 "nbformat": 4,
 "nbformat_minor": 2
}
